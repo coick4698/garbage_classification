{
  "cells": [
    {
      "cell_type": "code",
      "source": [
        "from google.colab import drive\n",
        "drive.mount('/content/drive')\n",
        "\n",
        "%cd /content/drive/MyDrive/ai_project/garbage_classification_project\n",
        "\n",
        "import sys\n",
        "sys.path.append('./src')\n",
        "\n",
        "import torch\n",
        "device = torch.device('cuda' if torch.cuda.is_available() else 'cpu')\n",
        "\n",
        "from dataset import get_dataloaders\n",
        "from model import get_mobilenetv2, get_densenet121, get_squeezenet, get_shufflenetv2\n",
        "from train import train_model\n",
        "from utils import plot_accuracy, plot_confusion_matrix\n",
        "\n",
        "# 데이터 경로 고정\n",
        "data_path = '/content/drive/MyDrive/iss_project/garbage_classification'"
      ],
      "metadata": {
        "id": "N5_vcWUMgloE",
        "outputId": "578177d2-41fc-4a60-b823-68a3f7b69a96",
        "colab": {
          "base_uri": "https://localhost:8080/"
        }
      },
      "execution_count": 1,
      "outputs": [
        {
          "output_type": "stream",
          "name": "stdout",
          "text": [
            "Mounted at /content/drive\n"
          ]
        }
      ]
    }
  ],
  "metadata": {
    "language_info": {
      "name": "python"
    },
    "colab": {
      "provenance": [],
      "machine_shape": "hm",
      "gpuType": "A100"
    },
    "kernelspec": {
      "name": "python3",
      "display_name": "Python 3"
    },
    "accelerator": "GPU"
  },
  "nbformat": 4,
  "nbformat_minor": 0
}
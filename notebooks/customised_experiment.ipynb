{
  "cells": [
    {
      "cell_type": "markdown",
      "metadata": {
        "id": "0wFK3ERC0O5a"
      },
      "source": [
        "Customising MobilenetV2"
      ]
    },
    {
      "cell_type": "code",
      "source": [
        "!git clone https://github.com/coick4698/garbage_classification.git\n",
        "\n",
        "from google.colab import drive\n",
        "drive.mount('/content/drive')\n",
        "\n",
        "%cd /content/garbage_classification\n",
        "\n",
        "import sys\n",
        "sys.path.append('/content/garbage_classification/src')\n",
        "\n",
        "from dataset import get_dataloaders\n",
        "from model import get_mobilenetv2\n",
        "from train import train_model\n",
        "from utils import plot_accuracy, plot_confusion_matrix\n",
        "\n",
        "# 데이터 경로 고정\n",
        "data_path = '/content/drive/MyDrive/iss_project/garbage_classification'"
      ],
      "metadata": {
        "colab": {
          "base_uri": "https://localhost:8080/"
        },
        "id": "fRRJJWzc0Puc",
        "outputId": "dbbd2f0c-9f01-4c3d-d0f5-b79e3f63696b"
      },
      "execution_count": 3,
      "outputs": [
        {
          "output_type": "stream",
          "name": "stdout",
          "text": [
            "fatal: destination path 'garbage_classification' already exists and is not an empty directory.\n",
            "Drive already mounted at /content/drive; to attempt to forcibly remount, call drive.mount(\"/content/drive\", force_remount=True).\n",
            "/content/garbage_classification\n"
          ]
        }
      ]
    },
    {
      "cell_type": "code",
      "source": [
        "# Exp.1 - Edit structure of FC layer -> increase accuracy\n",
        "import torch\n",
        "import torch.nn as nn\n",
        "from torchvision.models import mobilenet_v2\n",
        "from gradcam_utils import run_gradcam\n",
        "from sklearn.metrics import classification_report\n",
        "import matplotlib.pyplot as plt\n",
        "import cv2\n",
        "import os\n",
        "\n",
        "# 1. Defining Model\n",
        "class CustomMobileNetV2_FC(nn.Module):\n",
        "    def __init__(self, num_classes=12):\n",
        "        super(CustomMobileNetV2_FC, self).__init__()\n",
        "        base_model = mobilenet_v2(weights=None)\n",
        "        self.features = base_model.features\n",
        "        self.pool = nn.AdaptiveAvgPool2d(1)\n",
        "\n",
        "        # FC layer\n",
        "        self.classifier = nn.Sequential(\n",
        "            nn.Linear(1280, 512), # (1280 -> num_classes) 를 (1280 -> 512 -> num_classes)로\n",
        "            nn.ReLU(), # ReLU 추가\n",
        "            nn.Linear(512, num_classes) # 중간 표현 학습 가능\n",
        "        )\n",
        "\n",
        "    def forward(self, x):\n",
        "        x = self.features(x)\n",
        "        x = self.pool(x)\n",
        "        x = x.view(x.size(0), -1)\n",
        "        x = self.classifier(x)\n",
        "        return x\n",
        "\n",
        "# 2. load data\n",
        "train_loader, val_loader, class_names = get_dataloaders(data_path, use_small=False)\n",
        "device = torch.device('cuda' if torch.cuda.is_available() else 'cpu')\n",
        "\n",
        "# 3. load model\n",
        "model = CustomMobileNetV2_FC(num_classes=12).to(device)\n",
        "train_acc, val_acc = train_model(model, train_loader, val_loader, num_epochs=10, device=device)\n",
        "\n",
        "# 4. Accuracy Plot\n",
        "plot_accuracy(train_acc, val_acc, title=\"Custom MobileNetV2-FC (Full Dataset)\")\n",
        "\n",
        "# 5. Confusion Matrix\n",
        "plot_confusion_matrix(model, val_loader, class_names, device=device)\n",
        "\n",
        "# 6. Precision / Recall / F1-score\n",
        "all_preds, all_labels = [], []\n",
        "with torch.no_grad():\n",
        "    for images, labels in val_loader:\n",
        "        images, labels = images.to(device), labels.to(device)\n",
        "        outputs = model(images)\n",
        "        _, predicted = torch.max(outputs, 1)\n",
        "        all_preds.extend(predicted.cpu().numpy())\n",
        "        all_labels.extend(labels.cpu().numpy())\n",
        "\n",
        "print(\"Classification Report:\")\n",
        "print(classification_report(all_labels, all_preds, target_names=class_names))\n",
        "\n",
        "# 7. Grad-CAM Visualization\n",
        "target_layer = model.features[-1]\n",
        "img_path = '/content/drive/MyDrive/iss_project/garbage_classification/plastic/plastic10.jpg'\n",
        "\n",
        "gradcam_result = run_gradcam(\n",
        "    model = model,\n",
        "    target_layer = target_layer,\n",
        "    img_path = img_path,\n",
        "    use_cuda = torch.cuda.is_available()\n",
        ")\n",
        "\n",
        "plt.figure(figsize=(5, 5))\n",
        "plt.title(\"Grad-CAM Visualization\")\n",
        "plt.imshow(gradcam_result)\n",
        "plt.axis(\"off\")\n",
        "plt.show()\n"
      ],
      "metadata": {
        "colab": {
          "base_uri": "https://localhost:8080/",
          "height": 497
        },
        "id": "XSdtO9sO1EVK",
        "outputId": "3fdb9cc7-4c7b-4af4-ad3b-94b1626d6614"
      },
      "execution_count": 4,
      "outputs": [
        {
          "output_type": "error",
          "ename": "ModuleNotFoundError",
          "evalue": "No module named 'pytorch_grad_cam'",
          "traceback": [
            "\u001b[0;31m---------------------------------------------------------------------------\u001b[0m",
            "\u001b[0;31mModuleNotFoundError\u001b[0m                       Traceback (most recent call last)",
            "\u001b[0;32m/tmp/ipython-input-4209020870.py\u001b[0m in \u001b[0;36m<cell line: 0>\u001b[0;34m()\u001b[0m\n\u001b[1;32m      3\u001b[0m \u001b[0;32mimport\u001b[0m \u001b[0mtorch\u001b[0m\u001b[0;34m.\u001b[0m\u001b[0mnn\u001b[0m \u001b[0;32mas\u001b[0m \u001b[0mnn\u001b[0m\u001b[0;34m\u001b[0m\u001b[0;34m\u001b[0m\u001b[0m\n\u001b[1;32m      4\u001b[0m \u001b[0;32mfrom\u001b[0m \u001b[0mtorchvision\u001b[0m\u001b[0;34m.\u001b[0m\u001b[0mmodels\u001b[0m \u001b[0;32mimport\u001b[0m \u001b[0mmobilenet_v2\u001b[0m\u001b[0;34m\u001b[0m\u001b[0;34m\u001b[0m\u001b[0m\n\u001b[0;32m----> 5\u001b[0;31m \u001b[0;32mfrom\u001b[0m \u001b[0mgradcam_utils\u001b[0m \u001b[0;32mimport\u001b[0m \u001b[0mrun_gradcam\u001b[0m\u001b[0;34m\u001b[0m\u001b[0;34m\u001b[0m\u001b[0m\n\u001b[0m\u001b[1;32m      6\u001b[0m \u001b[0;32mfrom\u001b[0m \u001b[0msklearn\u001b[0m\u001b[0;34m.\u001b[0m\u001b[0mmetrics\u001b[0m \u001b[0;32mimport\u001b[0m \u001b[0mclassification_report\u001b[0m\u001b[0;34m\u001b[0m\u001b[0;34m\u001b[0m\u001b[0m\n\u001b[1;32m      7\u001b[0m \u001b[0;32mimport\u001b[0m \u001b[0mmatplotlib\u001b[0m\u001b[0;34m.\u001b[0m\u001b[0mpyplot\u001b[0m \u001b[0;32mas\u001b[0m \u001b[0mplt\u001b[0m\u001b[0;34m\u001b[0m\u001b[0;34m\u001b[0m\u001b[0m\n",
            "\u001b[0;32m/content/garbage_classification/src/gradcam_utils.py\u001b[0m in \u001b[0;36m<module>\u001b[0;34m\u001b[0m\n\u001b[1;32m      3\u001b[0m \u001b[0;32mimport\u001b[0m \u001b[0mnumpy\u001b[0m \u001b[0;32mas\u001b[0m \u001b[0mnp\u001b[0m\u001b[0;34m\u001b[0m\u001b[0;34m\u001b[0m\u001b[0m\n\u001b[1;32m      4\u001b[0m \u001b[0;32mfrom\u001b[0m \u001b[0mtorchvision\u001b[0m \u001b[0;32mimport\u001b[0m \u001b[0mtransforms\u001b[0m\u001b[0;34m\u001b[0m\u001b[0;34m\u001b[0m\u001b[0m\n\u001b[0;32m----> 5\u001b[0;31m \u001b[0;32mfrom\u001b[0m \u001b[0mpytorch_grad_cam\u001b[0m \u001b[0;32mimport\u001b[0m \u001b[0mGradCAM\u001b[0m\u001b[0;34m\u001b[0m\u001b[0;34m\u001b[0m\u001b[0m\n\u001b[0m\u001b[1;32m      6\u001b[0m \u001b[0;32mfrom\u001b[0m \u001b[0mpytorch_grad_cam\u001b[0m\u001b[0;34m.\u001b[0m\u001b[0mutils\u001b[0m\u001b[0;34m.\u001b[0m\u001b[0mimage\u001b[0m \u001b[0;32mimport\u001b[0m \u001b[0mshow_cam_on_image\u001b[0m\u001b[0;34m\u001b[0m\u001b[0;34m\u001b[0m\u001b[0m\n\u001b[1;32m      7\u001b[0m \u001b[0;34m\u001b[0m\u001b[0m\n",
            "\u001b[0;31mModuleNotFoundError\u001b[0m: No module named 'pytorch_grad_cam'",
            "",
            "\u001b[0;31m---------------------------------------------------------------------------\u001b[0;32m\nNOTE: If your import is failing due to a missing package, you can\nmanually install dependencies using either !pip or !apt.\n\nTo view examples of installing some common dependencies, click the\n\"Open Examples\" button below.\n\u001b[0;31m---------------------------------------------------------------------------\u001b[0m\n"
          ],
          "errorDetails": {
            "actions": [
              {
                "action": "open_url",
                "actionText": "Open Examples",
                "url": "/notebooks/snippets/importing_libraries.ipynb"
              }
            ]
          }
        }
      ]
    }
  ],
  "metadata": {
    "language_info": {
      "name": "python"
    },
    "colab": {
      "provenance": [],
      "machine_shape": "hm",
      "gpuType": "A100"
    },
    "kernelspec": {
      "name": "python3",
      "display_name": "Python 3"
    },
    "accelerator": "GPU"
  },
  "nbformat": 4,
  "nbformat_minor": 0
}
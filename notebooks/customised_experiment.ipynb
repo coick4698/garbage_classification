{
  "cells": [
    {
      "cell_type": "markdown",
      "metadata": {
        "id": "0wFK3ERC0O5a"
      },
      "source": [
        "Customising MobilenetV2"
      ]
    },
    {
      "cell_type": "code",
      "source": [
        "!git clone https://github.com/coick4698/garbage_classification.git\n",
        "\n",
        "from google.colab import drive\n",
        "drive.mount('/content/drive')\n",
        "\n",
        "%cd /content/garbage_classification\n",
        "\n",
        "import sys\n",
        "sys.path.append('/content/garbage_classification/src')\n",
        "\n",
        "import torch\n",
        "device = torch.device('cuda' if torch.cuda.is_available() else 'cpu')\n",
        "\n",
        "from dataset import get_dataloaders\n",
        "from model import get_mobilenetv2, get_densenet121, get_squeezenet, get_shufflenetv2\n",
        "from train import train_model\n",
        "from utils import plot_accuracy, plot_confusion_matrix\n",
        "\n",
        "# 데이터 경로 고정\n",
        "data_path = '/content/drive/MyDrive/iss_project/garbage_classification'"
      ],
      "metadata": {
        "id": "fRRJJWzc0Puc",
        "outputId": "4288cbf0-8379-4618-a18d-eab9977477d2",
        "colab": {
          "base_uri": "https://localhost:8080/"
        }
      },
      "execution_count": 2,
      "outputs": [
        {
          "output_type": "stream",
          "name": "stdout",
          "text": [
            "fatal: destination path 'garbage_classification' already exists and is not an empty directory.\n",
            "Mounted at /content/drive\n",
            "/content/garbage_classification\n"
          ]
        }
      ]
    },
    {
      "cell_type": "code",
      "source": [],
      "metadata": {
        "id": "XSdtO9sO1EVK"
      },
      "execution_count": null,
      "outputs": []
    }
  ],
  "metadata": {
    "language_info": {
      "name": "python"
    },
    "colab": {
      "provenance": []
    },
    "kernelspec": {
      "name": "python3",
      "display_name": "Python 3"
    }
  },
  "nbformat": 4,
  "nbformat_minor": 0
}